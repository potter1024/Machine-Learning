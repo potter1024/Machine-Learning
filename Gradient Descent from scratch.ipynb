{
 "cells": [
  {
   "cell_type": "code",
   "execution_count": 1,
   "metadata": {},
   "outputs": [
    {
     "name": "stdout",
     "output_type": "stream",
     "text": [
      "running...\n",
      "y = 1.4788027175308358 x + 0.03507497059234178\n",
      "-30.02471839375483 \t 11264.70566428881\n",
      "running...\n",
      "y = 1.4777440851894448 x + 0.08893651993741346\n",
      "-29.821451824454762 \t 11261.481011613474\n",
      "running...\n",
      "y = 1.4675440436333027 x + 0.6078985997054931\n",
      "-27.86295559041713 \t 11231.533427075734\n",
      "running...\n",
      "y = 1.3959992655297515 x + 4.247984440219189\n",
      "-14.125739157563203 \t 11078.631929745081\n"
     ]
    }
   ],
   "source": [
    "from numpy import *\n",
    "\n",
    "# y = mx + b\n",
    "# m is slope, b is y-intercept\n",
    "def compute_error_for_line_given_points(b, m, points):\n",
    "    totalError = 0\n",
    "    for i in range(0, len(points)):\n",
    "        x = points[i, 0]\n",
    "        y = points[i, 1]\n",
    "        totalError += (y - (m * x + b)) ** 2\n",
    "    return totalError / float(len(points))\n",
    "\n",
    "def step_gradient(b_current, m_current, points, learningRate):\n",
    "    b_gradient = 0\n",
    "    m_gradient = 0\n",
    "    N = float(len(points))\n",
    "    for i in range(0, len(points)):\n",
    "        x = points[i, 0]\n",
    "        y = points[i, 1]\n",
    "        b_gradient -= (2/N) * (y - ((m_current * x) + b_current))\n",
    "        m_gradient -= (2/N) * x * (y - ((m_current * x) + b_current))\n",
    "    new_b = b_current - (learningRate * b_gradient)\n",
    "    new_m = m_current - (learningRate * m_gradient)\n",
    "    return [new_b, new_m]\n",
    "\n",
    "def gradient_descent_runner(points, starting_b, starting_m, learning_rate, num_iterations):\n",
    "    b = starting_b\n",
    "    m = starting_m\n",
    "    for i in range(num_iterations):\n",
    "        b, m = step_gradient(b, m, array(points), learning_rate)\n",
    "    return [b, m]\n",
    "\n",
    "def run():\n",
    "    points = genfromtxt(\"/Users/rishab/Desktop/Python/data.csv\", delimiter=\",\")\n",
    "    learning_rate = 0.0001\n",
    "    initial_b = 0 # initial y-intercept guess\n",
    "    initial_m = 0 # initial slope guess\n",
    "    for i in range(2,6):\n",
    "        num_iterations = 10**i\n",
    "        print(\"running...\")\n",
    "        [b, m] = gradient_descent_runner(points, initial_b, initial_m, learning_rate, num_iterations)\n",
    "        print(\"y =\",m,\"x +\",b)\n",
    "        sum=0\n",
    "        sums=0\n",
    "        for i in range(0,len(points)):\n",
    "            x=points[i,0]\n",
    "            y=points[i,1]\n",
    "            y1=m*x+b\n",
    "            sum+=(y1-y)\n",
    "            sums+=(y1-y)**2\n",
    "        print(sum,\"\\t\",sums)\n",
    "if __name__ == '__main__':\n",
    "    run()"
   ]
  },
  {
   "cell_type": "raw",
   "metadata": {},
   "source": []
  }
 ],
 "metadata": {
  "kernelspec": {
   "display_name": "Python 3",
   "language": "python",
   "name": "python3"
  },
  "language_info": {
   "codemirror_mode": {
    "name": "ipython",
    "version": 3
   },
   "file_extension": ".py",
   "mimetype": "text/x-python",
   "name": "python",
   "nbconvert_exporter": "python",
   "pygments_lexer": "ipython3",
   "version": "3.7.3"
  }
 },
 "nbformat": 4,
 "nbformat_minor": 2
}
